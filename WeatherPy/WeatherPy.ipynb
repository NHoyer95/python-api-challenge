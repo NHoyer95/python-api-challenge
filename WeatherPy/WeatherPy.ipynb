{
 "cells": [
  {
   "cell_type": "markdown",
   "metadata": {},
   "source": [
    "# WeatherPy\n",
    "----\n",
    "\n",
    "#### Note\n",
    "* Instructions have been included for each segment. You do not have to follow them exactly, but they are included to help you think through the steps."
   ]
  },
  {
   "cell_type": "code",
   "execution_count": 1,
   "metadata": {
    "scrolled": true
   },
   "outputs": [],
   "source": [
    "# Dependencies and Setup\n",
    "import matplotlib.pyplot as plt\n",
    "import pandas as pd\n",
    "import numpy as np\n",
    "import requests\n",
    "import time\n",
    "from scipy.stats import linregress\n",
    "\n",
    "# Import API key\n",
    "from config import weather_api_key\n",
    "\n",
    "# Incorporated citipy to determine city based on latitude and longitude\n",
    "from citipy import citipy\n",
    "\n",
    "# Output File (CSV)\n",
    "output_data_file = \"output_data/cities.csv\"\n",
    "\n",
    "# Range of latitudes and longitudes\n",
    "lat_range = (-90, 90)\n",
    "lng_range = (-180, 180)"
   ]
  },
  {
   "cell_type": "markdown",
   "metadata": {},
   "source": [
    "## Generate Cities List"
   ]
  },
  {
   "cell_type": "code",
   "execution_count": 2,
   "metadata": {},
   "outputs": [
    {
     "data": {
      "text/plain": [
       "19"
      ]
     },
     "execution_count": 2,
     "metadata": {},
     "output_type": "execute_result"
    }
   ],
   "source": [
    "# List for holding lat_lngs and cities\n",
    "lat_lngs = []\n",
    "cities = []\n",
    "\n",
    "# Create a set of random lat and lng combinations\n",
    "lats = np.random.uniform(lat_range[0], lat_range[1], size=25)\n",
    "lngs = np.random.uniform(lng_range[0], lng_range[1], size=25)\n",
    "lat_lngs = zip(lats, lngs)\n",
    "\n",
    "# Identify nearest city for each lat, lng combination\n",
    "for lat_lng in lat_lngs:\n",
    "    city = citipy.nearest_city(lat_lng[0], lat_lng[1]).city_name\n",
    "    \n",
    "    # If the city is unique, then add it to our cities list\n",
    "    if city not in cities:\n",
    "        cities.append(city)\n",
    "\n",
    "# Print the city count to confirm sufficient count\n",
    "len(cities)"
   ]
  },
  {
   "cell_type": "markdown",
   "metadata": {},
   "source": [
    "### Perform API Calls\n",
    "* Perform a weather check on each city using a series of successive API calls.\n",
    "* Include a print log of each city as it'sbeing processed (with the city number and city name).\n"
   ]
  },
  {
   "cell_type": "code",
   "execution_count": 3,
   "metadata": {},
   "outputs": [],
   "source": [
    "# Create lists to hold values\n",
    "City_ID = []\n",
    "City = []\n",
    "Lat = []\n",
    "Lng = []\n",
    "Max_Temp = []\n",
    "Humidity = []\n",
    "Cloudiness = []\n",
    "Wind_Speed = []\n",
    "Country = []\n",
    "Date = []\n"
   ]
  },
  {
   "cell_type": "code",
   "execution_count": 4,
   "metadata": {},
   "outputs": [
    {
     "name": "stdout",
     "output_type": "stream",
     "text": [
      "Beginning Data Retrieval\n",
      "------------------------\n",
      "Processing: 0 | hermanus\n",
      "Processing: 1 | trapani\n",
      "Processing: 2 | vzmorye\n",
      "Processing: 3 | mataura\n",
      "Processing: 4 | cape town\n",
      "Processing: 5 | tuktoyaktuk\n",
      "Processing: 6 | pisco\n",
      "Processing: 7 | nome\n",
      "Processing: 8 | husavik\n",
      "Processing: 9 | daneti\n",
      "Processing: 10 | busselton\n",
      "Processing: 11 | luderitz\n",
      "Processing: 12 | hilo\n",
      "Processing: 13 | chokurdakh\n",
      "Processing: 14 | punta arenas\n",
      "Processing: 15 | severo-kurilsk\n",
      "Processing: 16 | tongling\n",
      "Processing: 17 | ritchie\n",
      "Processing: 18 | puerto ayora\n",
      "------------------------\n",
      "Data Retrieval Complete\n",
      "------------------------\n"
     ]
    }
   ],
   "source": [
    "# Declare the url\n",
    "url = \"http://api.openweathermap.org/data/2.5/weather?\"\n",
    "\n",
    "print(f\"Beginning Data Retrieval\")\n",
    "print(f\"------------------------\")\n",
    "\n",
    "# Loop through the cities\n",
    "for city in cities:\n",
    "    \n",
    "    query_url = url + \"appid=\" + weather_api_key + \"&units=imperial\" + \"&q=\" + city\n",
    "    city_weather = requests.get(query_url).json()\n",
    "    \n",
    "    try: \n",
    "        City.append(city_weather['name'])\n",
    "        Cloudiness.append(city_weather['clouds']['all'])\n",
    "        Country.append(city_weather['sys']['country'])\n",
    "        Date.append(city_weather['dt'])\n",
    "        Humidity.append(city_weather['main']['humidity'])\n",
    "        Lat.append(city_weather['coord']['lat'])\n",
    "        Lng.append(city_weather['coord']['lon'])\n",
    "        Max_Temp.append(city_weather['main']['temp_max'])\n",
    "        Wind_Speed.append(city_weather['wind']['speed'])\n",
    "        City_ID.append({cities.index(city)})\n",
    "        print(f'Processing: {cities.index(city)} | {city}')\n",
    "    except:\n",
    "        print(f\"We could not find {city}\")\n",
    "        pass\n",
    "\n",
    "print(f\"------------------------\")    \n",
    "print(f\"Data Retrieval Complete\")\n",
    "print(f\"------------------------\")"
   ]
  },
  {
   "cell_type": "markdown",
   "metadata": {},
   "source": [
    "### Convert Raw Data to DataFrame\n",
    "* Export the city data into a .csv.\n",
    "* Display the DataFrame"
   ]
  },
  {
   "cell_type": "code",
   "execution_count": 5,
   "metadata": {},
   "outputs": [
    {
     "data": {
      "text/html": [
       "<div>\n",
       "<style scoped>\n",
       "    .dataframe tbody tr th:only-of-type {\n",
       "        vertical-align: middle;\n",
       "    }\n",
       "\n",
       "    .dataframe tbody tr th {\n",
       "        vertical-align: top;\n",
       "    }\n",
       "\n",
       "    .dataframe thead th {\n",
       "        text-align: right;\n",
       "    }\n",
       "</style>\n",
       "<table border=\"1\" class=\"dataframe\">\n",
       "  <thead>\n",
       "    <tr style=\"text-align: right;\">\n",
       "      <th></th>\n",
       "      <th>City ID</th>\n",
       "      <th>City</th>\n",
       "      <th>Lat</th>\n",
       "      <th>Lng</th>\n",
       "      <th>Max Temp</th>\n",
       "      <th>Humidity</th>\n",
       "      <th>Cloudiness</th>\n",
       "      <th>Wind Speed</th>\n",
       "      <th>Country</th>\n",
       "      <th>Date</th>\n",
       "    </tr>\n",
       "  </thead>\n",
       "  <tbody>\n",
       "    <tr>\n",
       "      <th>0</th>\n",
       "      <td>{0}</td>\n",
       "      <td>Hermanus</td>\n",
       "      <td>-34.4187</td>\n",
       "      <td>19.2345</td>\n",
       "      <td>68.00</td>\n",
       "      <td>89</td>\n",
       "      <td>80</td>\n",
       "      <td>1.99</td>\n",
       "      <td>ZA</td>\n",
       "      <td>2021-02-06 23:51:24</td>\n",
       "    </tr>\n",
       "    <tr>\n",
       "      <th>1</th>\n",
       "      <td>{1}</td>\n",
       "      <td>Province of Trapani</td>\n",
       "      <td>37.8333</td>\n",
       "      <td>12.6667</td>\n",
       "      <td>66.00</td>\n",
       "      <td>77</td>\n",
       "      <td>0</td>\n",
       "      <td>21.85</td>\n",
       "      <td>IT</td>\n",
       "      <td>2021-02-06 23:56:31</td>\n",
       "    </tr>\n",
       "    <tr>\n",
       "      <th>2</th>\n",
       "      <td>{2}</td>\n",
       "      <td>Vzmorye</td>\n",
       "      <td>54.6961</td>\n",
       "      <td>20.2361</td>\n",
       "      <td>-0.40</td>\n",
       "      <td>85</td>\n",
       "      <td>0</td>\n",
       "      <td>2.24</td>\n",
       "      <td>RU</td>\n",
       "      <td>2021-02-06 23:56:31</td>\n",
       "    </tr>\n",
       "    <tr>\n",
       "      <th>3</th>\n",
       "      <td>{3}</td>\n",
       "      <td>Mataura</td>\n",
       "      <td>-46.1927</td>\n",
       "      <td>168.8643</td>\n",
       "      <td>77.25</td>\n",
       "      <td>50</td>\n",
       "      <td>0</td>\n",
       "      <td>2.44</td>\n",
       "      <td>NZ</td>\n",
       "      <td>2021-02-06 23:47:09</td>\n",
       "    </tr>\n",
       "    <tr>\n",
       "      <th>4</th>\n",
       "      <td>{4}</td>\n",
       "      <td>Cape Town</td>\n",
       "      <td>-33.9258</td>\n",
       "      <td>18.4232</td>\n",
       "      <td>71.01</td>\n",
       "      <td>78</td>\n",
       "      <td>20</td>\n",
       "      <td>10.36</td>\n",
       "      <td>ZA</td>\n",
       "      <td>2021-02-06 23:52:44</td>\n",
       "    </tr>\n",
       "    <tr>\n",
       "      <th>5</th>\n",
       "      <td>{5}</td>\n",
       "      <td>Tuktoyaktuk</td>\n",
       "      <td>69.4541</td>\n",
       "      <td>-133.0374</td>\n",
       "      <td>-16.60</td>\n",
       "      <td>76</td>\n",
       "      <td>90</td>\n",
       "      <td>24.16</td>\n",
       "      <td>CA</td>\n",
       "      <td>2021-02-06 23:55:42</td>\n",
       "    </tr>\n",
       "    <tr>\n",
       "      <th>6</th>\n",
       "      <td>{6}</td>\n",
       "      <td>Pisco</td>\n",
       "      <td>-13.7000</td>\n",
       "      <td>-76.2167</td>\n",
       "      <td>73.40</td>\n",
       "      <td>78</td>\n",
       "      <td>75</td>\n",
       "      <td>4.61</td>\n",
       "      <td>PE</td>\n",
       "      <td>2021-02-06 23:56:24</td>\n",
       "    </tr>\n",
       "    <tr>\n",
       "      <th>7</th>\n",
       "      <td>{7}</td>\n",
       "      <td>Nome</td>\n",
       "      <td>64.5011</td>\n",
       "      <td>-165.4064</td>\n",
       "      <td>17.60</td>\n",
       "      <td>79</td>\n",
       "      <td>90</td>\n",
       "      <td>6.91</td>\n",
       "      <td>US</td>\n",
       "      <td>2021-02-06 23:54:46</td>\n",
       "    </tr>\n",
       "    <tr>\n",
       "      <th>8</th>\n",
       "      <td>{8}</td>\n",
       "      <td>Husavik</td>\n",
       "      <td>66.0449</td>\n",
       "      <td>-17.3389</td>\n",
       "      <td>33.80</td>\n",
       "      <td>69</td>\n",
       "      <td>90</td>\n",
       "      <td>2.30</td>\n",
       "      <td>IS</td>\n",
       "      <td>2021-02-06 23:56:31</td>\n",
       "    </tr>\n",
       "    <tr>\n",
       "      <th>9</th>\n",
       "      <td>{9}</td>\n",
       "      <td>Dăneţi</td>\n",
       "      <td>43.9833</td>\n",
       "      <td>24.0500</td>\n",
       "      <td>39.99</td>\n",
       "      <td>100</td>\n",
       "      <td>90</td>\n",
       "      <td>12.66</td>\n",
       "      <td>RO</td>\n",
       "      <td>2021-02-06 23:56:31</td>\n",
       "    </tr>\n",
       "    <tr>\n",
       "      <th>10</th>\n",
       "      <td>{10}</td>\n",
       "      <td>Busselton</td>\n",
       "      <td>-33.6500</td>\n",
       "      <td>115.3333</td>\n",
       "      <td>59.00</td>\n",
       "      <td>98</td>\n",
       "      <td>100</td>\n",
       "      <td>1.99</td>\n",
       "      <td>AU</td>\n",
       "      <td>2021-02-06 23:47:08</td>\n",
       "    </tr>\n",
       "    <tr>\n",
       "      <th>11</th>\n",
       "      <td>{11}</td>\n",
       "      <td>Lüderitz</td>\n",
       "      <td>-26.6481</td>\n",
       "      <td>15.1594</td>\n",
       "      <td>69.71</td>\n",
       "      <td>60</td>\n",
       "      <td>0</td>\n",
       "      <td>21.65</td>\n",
       "      <td>NA</td>\n",
       "      <td>2021-02-06 23:55:55</td>\n",
       "    </tr>\n",
       "    <tr>\n",
       "      <th>12</th>\n",
       "      <td>{12}</td>\n",
       "      <td>Hilo</td>\n",
       "      <td>19.7297</td>\n",
       "      <td>-155.0900</td>\n",
       "      <td>80.60</td>\n",
       "      <td>41</td>\n",
       "      <td>1</td>\n",
       "      <td>9.22</td>\n",
       "      <td>US</td>\n",
       "      <td>2021-02-06 23:43:30</td>\n",
       "    </tr>\n",
       "    <tr>\n",
       "      <th>13</th>\n",
       "      <td>{13}</td>\n",
       "      <td>Chokurdakh</td>\n",
       "      <td>70.6333</td>\n",
       "      <td>147.9167</td>\n",
       "      <td>-22.81</td>\n",
       "      <td>86</td>\n",
       "      <td>38</td>\n",
       "      <td>3.33</td>\n",
       "      <td>RU</td>\n",
       "      <td>2021-02-06 23:56:09</td>\n",
       "    </tr>\n",
       "    <tr>\n",
       "      <th>14</th>\n",
       "      <td>{14}</td>\n",
       "      <td>Punta Arenas</td>\n",
       "      <td>-53.1500</td>\n",
       "      <td>-70.9167</td>\n",
       "      <td>55.40</td>\n",
       "      <td>58</td>\n",
       "      <td>40</td>\n",
       "      <td>23.02</td>\n",
       "      <td>CL</td>\n",
       "      <td>2021-02-06 23:51:12</td>\n",
       "    </tr>\n",
       "    <tr>\n",
       "      <th>15</th>\n",
       "      <td>{15}</td>\n",
       "      <td>Severo-Kuril'sk</td>\n",
       "      <td>50.6789</td>\n",
       "      <td>156.1250</td>\n",
       "      <td>22.59</td>\n",
       "      <td>93</td>\n",
       "      <td>99</td>\n",
       "      <td>15.46</td>\n",
       "      <td>RU</td>\n",
       "      <td>2021-02-06 23:52:54</td>\n",
       "    </tr>\n",
       "    <tr>\n",
       "      <th>16</th>\n",
       "      <td>{16}</td>\n",
       "      <td>Tongling</td>\n",
       "      <td>30.9500</td>\n",
       "      <td>117.7833</td>\n",
       "      <td>49.96</td>\n",
       "      <td>81</td>\n",
       "      <td>32</td>\n",
       "      <td>1.70</td>\n",
       "      <td>CN</td>\n",
       "      <td>2021-02-06 23:56:32</td>\n",
       "    </tr>\n",
       "    <tr>\n",
       "      <th>17</th>\n",
       "      <td>{17}</td>\n",
       "      <td>Ritchie</td>\n",
       "      <td>-29.0380</td>\n",
       "      <td>24.6028</td>\n",
       "      <td>66.20</td>\n",
       "      <td>72</td>\n",
       "      <td>0</td>\n",
       "      <td>19.57</td>\n",
       "      <td>ZA</td>\n",
       "      <td>2021-02-06 23:56:32</td>\n",
       "    </tr>\n",
       "    <tr>\n",
       "      <th>18</th>\n",
       "      <td>{18}</td>\n",
       "      <td>Puerto Ayora</td>\n",
       "      <td>-0.7393</td>\n",
       "      <td>-90.3518</td>\n",
       "      <td>78.01</td>\n",
       "      <td>91</td>\n",
       "      <td>62</td>\n",
       "      <td>3.00</td>\n",
       "      <td>EC</td>\n",
       "      <td>2021-02-06 23:56:33</td>\n",
       "    </tr>\n",
       "  </tbody>\n",
       "</table>\n",
       "</div>"
      ],
      "text/plain": [
       "   City ID                 City      Lat       Lng  Max Temp  Humidity  \\\n",
       "0      {0}             Hermanus -34.4187   19.2345     68.00        89   \n",
       "1      {1}  Province of Trapani  37.8333   12.6667     66.00        77   \n",
       "2      {2}              Vzmorye  54.6961   20.2361     -0.40        85   \n",
       "3      {3}              Mataura -46.1927  168.8643     77.25        50   \n",
       "4      {4}            Cape Town -33.9258   18.4232     71.01        78   \n",
       "5      {5}          Tuktoyaktuk  69.4541 -133.0374    -16.60        76   \n",
       "6      {6}                Pisco -13.7000  -76.2167     73.40        78   \n",
       "7      {7}                 Nome  64.5011 -165.4064     17.60        79   \n",
       "8      {8}              Husavik  66.0449  -17.3389     33.80        69   \n",
       "9      {9}               Dăneţi  43.9833   24.0500     39.99       100   \n",
       "10    {10}            Busselton -33.6500  115.3333     59.00        98   \n",
       "11    {11}             Lüderitz -26.6481   15.1594     69.71        60   \n",
       "12    {12}                 Hilo  19.7297 -155.0900     80.60        41   \n",
       "13    {13}           Chokurdakh  70.6333  147.9167    -22.81        86   \n",
       "14    {14}         Punta Arenas -53.1500  -70.9167     55.40        58   \n",
       "15    {15}      Severo-Kuril'sk  50.6789  156.1250     22.59        93   \n",
       "16    {16}             Tongling  30.9500  117.7833     49.96        81   \n",
       "17    {17}              Ritchie -29.0380   24.6028     66.20        72   \n",
       "18    {18}         Puerto Ayora  -0.7393  -90.3518     78.01        91   \n",
       "\n",
       "    Cloudiness  Wind Speed Country                Date  \n",
       "0           80        1.99      ZA 2021-02-06 23:51:24  \n",
       "1            0       21.85      IT 2021-02-06 23:56:31  \n",
       "2            0        2.24      RU 2021-02-06 23:56:31  \n",
       "3            0        2.44      NZ 2021-02-06 23:47:09  \n",
       "4           20       10.36      ZA 2021-02-06 23:52:44  \n",
       "5           90       24.16      CA 2021-02-06 23:55:42  \n",
       "6           75        4.61      PE 2021-02-06 23:56:24  \n",
       "7           90        6.91      US 2021-02-06 23:54:46  \n",
       "8           90        2.30      IS 2021-02-06 23:56:31  \n",
       "9           90       12.66      RO 2021-02-06 23:56:31  \n",
       "10         100        1.99      AU 2021-02-06 23:47:08  \n",
       "11           0       21.65      NA 2021-02-06 23:55:55  \n",
       "12           1        9.22      US 2021-02-06 23:43:30  \n",
       "13          38        3.33      RU 2021-02-06 23:56:09  \n",
       "14          40       23.02      CL 2021-02-06 23:51:12  \n",
       "15          99       15.46      RU 2021-02-06 23:52:54  \n",
       "16          32        1.70      CN 2021-02-06 23:56:32  \n",
       "17           0       19.57      ZA 2021-02-06 23:56:32  \n",
       "18          62        3.00      EC 2021-02-06 23:56:33  "
      ]
     },
     "execution_count": 5,
     "metadata": {},
     "output_type": "execute_result"
    }
   ],
   "source": [
    "# Create a DataFrame to store the values from the API calls\n",
    "city_data_df = pd.DataFrame({\n",
    "    \"City ID\": City_ID,\n",
    "    \"City\": City,\n",
    "    \"Lat\": Lat,\n",
    "    \"Lng\": Lng,\n",
    "    \"Max Temp\": Max_Temp,\n",
    "    \"Humidity\": Humidity,\n",
    "    \"Cloudiness\": Cloudiness,\n",
    "    \"Wind Speed\": Wind_Speed,\n",
    "    \"Country\": Country,\n",
    "    \"Date\": Date})\n",
    "\n",
    "city_data_df[\"Date\"] = pd.to_datetime(city_data_df[\"Date\"], unit = \"s\")\n",
    "\n",
    "\n",
    "city_data_df"
   ]
  },
  {
   "cell_type": "code",
   "execution_count": 6,
   "metadata": {},
   "outputs": [],
   "source": [
    "# Write the data to a csv\n",
    "city_data_df.to_csv(\"../output_data/cities.csv\", encoding=\"utf-8\", index=True)"
   ]
  },
  {
   "cell_type": "markdown",
   "metadata": {},
   "source": [
    "## Inspect the data and remove the cities where the humidity > 100%.\n",
    "----\n",
    "Skip this step if there are no cities that have humidity > 100%. "
   ]
  },
  {
   "cell_type": "code",
   "execution_count": 7,
   "metadata": {},
   "outputs": [],
   "source": [
    "#  Get the indices of cities that have humidity over 100%."
   ]
  },
  {
   "cell_type": "code",
   "execution_count": 8,
   "metadata": {},
   "outputs": [
    {
     "data": {
      "text/html": [
       "<div>\n",
       "<style scoped>\n",
       "    .dataframe tbody tr th:only-of-type {\n",
       "        vertical-align: middle;\n",
       "    }\n",
       "\n",
       "    .dataframe tbody tr th {\n",
       "        vertical-align: top;\n",
       "    }\n",
       "\n",
       "    .dataframe thead th {\n",
       "        text-align: right;\n",
       "    }\n",
       "</style>\n",
       "<table border=\"1\" class=\"dataframe\">\n",
       "  <thead>\n",
       "    <tr style=\"text-align: right;\">\n",
       "      <th></th>\n",
       "      <th>City ID</th>\n",
       "      <th>City</th>\n",
       "      <th>Lat</th>\n",
       "      <th>Lng</th>\n",
       "      <th>Max Temp</th>\n",
       "      <th>Humidity</th>\n",
       "      <th>Cloudiness</th>\n",
       "      <th>Wind Speed</th>\n",
       "      <th>Country</th>\n",
       "      <th>Date</th>\n",
       "    </tr>\n",
       "  </thead>\n",
       "  <tbody>\n",
       "    <tr>\n",
       "      <th>0</th>\n",
       "      <td>{0}</td>\n",
       "      <td>Hermanus</td>\n",
       "      <td>-34.4187</td>\n",
       "      <td>19.2345</td>\n",
       "      <td>68.00</td>\n",
       "      <td>89</td>\n",
       "      <td>80</td>\n",
       "      <td>1.99</td>\n",
       "      <td>ZA</td>\n",
       "      <td>2021-02-06 23:51:24</td>\n",
       "    </tr>\n",
       "    <tr>\n",
       "      <th>1</th>\n",
       "      <td>{1}</td>\n",
       "      <td>Province of Trapani</td>\n",
       "      <td>37.8333</td>\n",
       "      <td>12.6667</td>\n",
       "      <td>66.00</td>\n",
       "      <td>77</td>\n",
       "      <td>0</td>\n",
       "      <td>21.85</td>\n",
       "      <td>IT</td>\n",
       "      <td>2021-02-06 23:56:31</td>\n",
       "    </tr>\n",
       "    <tr>\n",
       "      <th>2</th>\n",
       "      <td>{2}</td>\n",
       "      <td>Vzmorye</td>\n",
       "      <td>54.6961</td>\n",
       "      <td>20.2361</td>\n",
       "      <td>-0.40</td>\n",
       "      <td>85</td>\n",
       "      <td>0</td>\n",
       "      <td>2.24</td>\n",
       "      <td>RU</td>\n",
       "      <td>2021-02-06 23:56:31</td>\n",
       "    </tr>\n",
       "    <tr>\n",
       "      <th>3</th>\n",
       "      <td>{3}</td>\n",
       "      <td>Mataura</td>\n",
       "      <td>-46.1927</td>\n",
       "      <td>168.8643</td>\n",
       "      <td>77.25</td>\n",
       "      <td>50</td>\n",
       "      <td>0</td>\n",
       "      <td>2.44</td>\n",
       "      <td>NZ</td>\n",
       "      <td>2021-02-06 23:47:09</td>\n",
       "    </tr>\n",
       "    <tr>\n",
       "      <th>4</th>\n",
       "      <td>{4}</td>\n",
       "      <td>Cape Town</td>\n",
       "      <td>-33.9258</td>\n",
       "      <td>18.4232</td>\n",
       "      <td>71.01</td>\n",
       "      <td>78</td>\n",
       "      <td>20</td>\n",
       "      <td>10.36</td>\n",
       "      <td>ZA</td>\n",
       "      <td>2021-02-06 23:52:44</td>\n",
       "    </tr>\n",
       "  </tbody>\n",
       "</table>\n",
       "</div>"
      ],
      "text/plain": [
       "  City ID                 City      Lat       Lng  Max Temp  Humidity  \\\n",
       "0     {0}             Hermanus -34.4187   19.2345     68.00        89   \n",
       "1     {1}  Province of Trapani  37.8333   12.6667     66.00        77   \n",
       "2     {2}              Vzmorye  54.6961   20.2361     -0.40        85   \n",
       "3     {3}              Mataura -46.1927  168.8643     77.25        50   \n",
       "4     {4}            Cape Town -33.9258   18.4232     71.01        78   \n",
       "\n",
       "   Cloudiness  Wind Speed Country                Date  \n",
       "0          80        1.99      ZA 2021-02-06 23:51:24  \n",
       "1           0       21.85      IT 2021-02-06 23:56:31  \n",
       "2           0        2.24      RU 2021-02-06 23:56:31  \n",
       "3           0        2.44      NZ 2021-02-06 23:47:09  \n",
       "4          20       10.36      ZA 2021-02-06 23:52:44  "
      ]
     },
     "execution_count": 8,
     "metadata": {},
     "output_type": "execute_result"
    }
   ],
   "source": [
    "# Make a new DataFrame equal to the city data to drop all humidity outliers by index.\n",
    "# Passing \"inplace=False\" will make a copy of the city_data DataFrame, which we call \"clean_city_data\".\n",
    "clean_city_data = city_data_df.drop(city_data_df.loc[city_data_df[\"Humidity\"] > 100].index, inplace=False)\n",
    "\n",
    "clean_city_data.head()"
   ]
  },
  {
   "cell_type": "markdown",
   "metadata": {},
   "source": [
    "## Plotting the Data\n",
    "* Use proper labeling of the plots using plot titles (including date of analysis) and axes labels.\n",
    "* Save the plotted figures as .pngs."
   ]
  },
  {
   "cell_type": "markdown",
   "metadata": {},
   "source": [
    "## Latitude vs. Temperature Plot"
   ]
  },
  {
   "cell_type": "code",
   "execution_count": 9,
   "metadata": {
    "scrolled": true
   },
   "outputs": [
    {
     "data": {
      "image/png": "[encoded data removed]",
      "text/plain": [
       "<Figure size 432x288 with 1 Axes>"
      ]
     },
     "metadata": {
      "needs_background": "light"
     },
     "output_type": "display_data"
    }
   ],
   "source": [
    "# Create scatter plot\n",
    "plt.scatter(clean_city_data[\"Lat\"], clean_city_data[\"Max Temp\"], marker=\"o\", facecolors=\"lawngreen\", edgecolors=\"dimgrey\")\n",
    "\n",
    "# Add labels, title, limits & grid \n",
    "plt.title(\"City Latitude vs. Max Temperature\", fontsize=14)\n",
    "plt.ylabel(\"Max Temperature (F)\", fontsize=12)\n",
    "plt.xlabel(\"Latitude\", fontsize=12)\n",
    "plt.grid()\n",
    "\n",
    "# Display and Save plot\n",
    "plt.savefig(\"../output_data/latitude-vs-temp.png\")\n",
    "plt.show()\n"
   ]
  },
  {
   "cell_type": "markdown",
   "metadata": {},
   "source": [
    "## Latitude vs. Humidity Plot"
   ]
  },
  {
   "cell_type": "code",
   "execution_count": 10,
   "metadata": {},
   "outputs": [
    {
     "data": {
      "image/png": "[encoded data removed]",
      "text/plain": [
       "<Figure size 432x288 with 1 Axes>"
      ]
     },
     "metadata": {
      "needs_background": "light"
     },
     "output_type": "display_data"
    }
   ],
   "source": [
    "# Create scatter plot\n",
    "plt.scatter(clean_city_data[\"Lat\"], clean_city_data[\"Humidity\"], marker=\"o\", facecolors=\"lawngreen\", edgecolors=\"dimgrey\")\n",
    "\n",
    "# Add labels, title, limits & grid \n",
    "plt.title(\"City Latitude vs. Humidity\", fontsize=14)\n",
    "plt.ylabel(\"Humidity %\", fontsize=12)\n",
    "plt.xlabel(\"Latitude\", fontsize=12)\n",
    "plt.grid()\n",
    "\n",
    "# Display and Save plot\n",
    "plt.savefig(\"../output_data/latitude-vs-humidity.png\")\n",
    "plt.show()\n"
   ]
  },
  {
   "cell_type": "markdown",
   "metadata": {},
   "source": [
    "## Latitude vs. Cloudiness Plot"
   ]
  },
  {
   "cell_type": "code",
   "execution_count": 11,
   "metadata": {},
   "outputs": [
    {
     "data": {
      "image/png": "[encoded data removed]",
      "text/plain": [
       "<Figure size 432x288 with 1 Axes>"
      ]
     },
     "metadata": {
      "needs_background": "light"
     },
     "output_type": "display_data"
    }
   ],
   "source": [
    "# Create scatter plot\n",
    "plt.scatter(clean_city_data[\"Lat\"], clean_city_data[\"Cloudiness\"], marker=\"o\", facecolors=\"skyblue\", edgecolors=\"dimgrey\")\n",
    "\n",
    "# Add labels, title, limits & grid \n",
    "plt.title(\"City Latitude vs. Cloudiness\", fontsize=14)\n",
    "plt.ylabel(\"Cloudiness\", fontsize=12)\n",
    "plt.xlabel(\"Latitude\", fontsize=12)\n",
    "plt.grid()\n",
    "\n",
    "# Display and Save plot\n",
    "plt.savefig(\"../output_data/latitude-vs-cloudiness.png\")\n",
    "plt.show()\n"
   ]
  },
  {
   "cell_type": "markdown",
   "metadata": {},
   "source": [
    "## Latitude vs. Wind Speed Plot"
   ]
  },
  {
   "cell_type": "code",
   "execution_count": 12,
   "metadata": {},
   "outputs": [
    {
     "data": {
      "image/png": "[encoded data removed]",
      "text/plain": [
       "<Figure size 432x288 with 1 Axes>"
      ]
     },
     "metadata": {
      "needs_background": "light"
     },
     "output_type": "display_data"
    }
   ],
   "source": [
    "# Create scatter plot\n",
    "plt.scatter(clean_city_data[\"Lat\"], clean_city_data[\"Wind Speed\"], marker=\"o\", facecolors=\"crimson\", edgecolors=\"dimgrey\")\n",
    "\n",
    "# Add labels, title, limits & grid \n",
    "plt.title(\"City Latitude vs. Wind Speed\", fontsize=14)\n",
    "plt.ylabel(\"Wind Speed\", fontsize=12)\n",
    "plt.xlabel(\"Latitude\", fontsize=12)\n",
    "plt.grid()\n",
    "\n",
    "# Display and Save plot\n",
    "plt.savefig(\"../output_data/latitude-vs-windspeed.png\")\n",
    "plt.show()\n"
   ]
  },
  {
   "cell_type": "markdown",
   "metadata": {},
   "source": [
    "## Linear Regression"
   ]
  },
  {
   "cell_type": "markdown",
   "metadata": {},
   "source": [
    "####  Northern Hemisphere - Max Temp vs. Latitude Linear Regression"
   ]
  },
  {
   "cell_type": "code",
   "execution_count": null,
   "metadata": {},
   "outputs": [],
   "source": []
  },
  {
   "cell_type": "markdown",
   "metadata": {},
   "source": [
    "####  Southern Hemisphere - Max Temp vs. Latitude Linear Regression"
   ]
  },
  {
   "cell_type": "code",
   "execution_count": null,
   "metadata": {},
   "outputs": [],
   "source": []
  },
  {
   "cell_type": "markdown",
   "metadata": {},
   "source": [
    "####  Northern Hemisphere - Humidity (%) vs. Latitude Linear Regression"
   ]
  },
  {
   "cell_type": "code",
   "execution_count": null,
   "metadata": {},
   "outputs": [],
   "source": []
  },
  {
   "cell_type": "markdown",
   "metadata": {},
   "source": [
    "####  Southern Hemisphere - Humidity (%) vs. Latitude Linear Regression"
   ]
  },
  {
   "cell_type": "code",
   "execution_count": null,
   "metadata": {},
   "outputs": [],
   "source": []
  },
  {
   "cell_type": "markdown",
   "metadata": {},
   "source": [
    "####  Northern Hemisphere - Cloudiness (%) vs. Latitude Linear Regression"
   ]
  },
  {
   "cell_type": "code",
   "execution_count": null,
   "metadata": {},
   "outputs": [],
   "source": []
  },
  {
   "cell_type": "markdown",
   "metadata": {},
   "source": [
    "####  Southern Hemisphere - Cloudiness (%) vs. Latitude Linear Regression"
   ]
  },
  {
   "cell_type": "code",
   "execution_count": null,
   "metadata": {},
   "outputs": [],
   "source": []
  },
  {
   "cell_type": "markdown",
   "metadata": {},
   "source": [
    "####  Northern Hemisphere - Wind Speed (mph) vs. Latitude Linear Regression"
   ]
  },
  {
   "cell_type": "code",
   "execution_count": null,
   "metadata": {},
   "outputs": [],
   "source": []
  },
  {
   "cell_type": "markdown",
   "metadata": {},
   "source": [
    "####  Southern Hemisphere - Wind Speed (mph) vs. Latitude Linear Regression"
   ]
  },
  {
   "cell_type": "code",
   "execution_count": null,
   "metadata": {},
   "outputs": [],
   "source": []
  },
  {
   "cell_type": "code",
   "execution_count": null,
   "metadata": {},
   "outputs": [],
   "source": []
  }
 ],
 "metadata": {
  "anaconda-cloud": {},
  "kernel_info": {
   "name": "python3"
  },
  "kernelspec": {
   "display_name": "Python 3",
   "language": "python",
   "name": "python3"
  },
  "language_info": {
   "codemirror_mode": {
    "name": "ipython",
    "version": 3
   },
   "file_extension": ".py",
   "mimetype": "text/x-python",
   "name": "python",
   "nbconvert_exporter": "python",
   "pygments_lexer": "ipython3",
   "version": "3.6.10"
  },
  "latex_envs": {
   "LaTeX_envs_menu_present": true,
   "autoclose": false,
   "autocomplete": true,
   "bibliofile": "biblio.bib",
   "cite_by": "apalike",
   "current_citInitial": 1,
   "eqLabelWithNumbers": true,
   "eqNumInitial": 1,
   "hotkeys": {
    "equation": "Ctrl-E",
    "itemize": "Ctrl-I"
   },
   "labels_anchors": false,
   "latex_user_defs": false,
   "report_style_numbering": false,
   "user_envs_cfg": false
  },
  "nteract": {
   "version": "0.12.3"
  }
 },
 "nbformat": 4,
 "nbformat_minor": 2
}
